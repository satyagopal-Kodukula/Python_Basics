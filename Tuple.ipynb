{
  "cells": [
    {
      "cell_type": "markdown",
      "metadata": {
        "id": "view-in-github",
        "colab_type": "text"
      },
      "source": [
        "<a href=\"https://colab.research.google.com/github/satyagopal-Kodukula/Python_Basics/blob/main/Tuple.ipynb\" target=\"_parent\"><img src=\"https://colab.research.google.com/assets/colab-badge.svg\" alt=\"Open In Colab\"/></a>"
      ]
    },
    {
      "cell_type": "markdown",
      "metadata": {
        "id": "wvLQ3HddNT94"
      },
      "source": [
        "Tuples : Read-only datatype.\n",
        "\n",
        "Does not support editing [just like strings] because immutable.\n",
        "\n",
        "You cannot add new items to the tuples."
      ]
    },
    {
      "cell_type": "code",
      "execution_count": null,
      "metadata": {
        "id": "jn29yfraNT97"
      },
      "outputs": [],
      "source": [
        "# creation of tuples\n",
        "t_1 = ()\n",
        "t_2 = (1,2,3)\n",
        "t_3 = (1,2,3.0,'hello')\n",
        "t_4 = (1,2,3,(4,5))   #2D tuple\n",
        "t_5 = ('string',)    #creation of single item in a tuple\n",
        "type(t_5)\n",
        "t_6 = tuple('Goa')\n",
        "t_7 = tuple([1,2,3,4,5,6])\n"
      ]
    },
    {
      "cell_type": "code",
      "execution_count": null,
      "metadata": {
        "id": "W2EHmRGHNT98",
        "outputId": "bbc85990-65fe-458d-b248-22e5760e21ba"
      },
      "outputs": [
        {
          "data": {
            "text/plain": [
              "3"
            ]
          },
          "execution_count": 18,
          "metadata": {},
          "output_type": "execute_result"
        }
      ],
      "source": [
        "# Acessing items from tuple\n",
        "t_2[0]\n",
        "t_2[-1]     # same as the string and lists datatypes"
      ]
    },
    {
      "cell_type": "code",
      "execution_count": null,
      "metadata": {
        "id": "u37-ArtvNT99",
        "outputId": "608964ef-840a-4388-fd00-49a21d7ddbeb"
      },
      "outputs": [
        {
          "ename": "TypeError",
          "evalue": "'tuple' object does not support item assignment",
          "output_type": "error",
          "traceback": [
            "\u001b[0;31m---------------------------------------------------------------------------\u001b[0m",
            "\u001b[0;31mTypeError\u001b[0m                                 Traceback (most recent call last)",
            "Cell \u001b[0;32mIn[19], line 2\u001b[0m\n\u001b[1;32m      1\u001b[0m \u001b[38;5;66;03m#  Editing\u001b[39;00m\n\u001b[0;32m----> 2\u001b[0m \u001b[43mt_2\u001b[49m\u001b[43m[\u001b[49m\u001b[38;5;241;43m0\u001b[39;49m\u001b[43m]\u001b[49m \u001b[38;5;241m=\u001b[39m \u001b[38;5;241m100\u001b[39m\n\u001b[1;32m      4\u001b[0m \u001b[38;5;66;03m# Adding \u001b[39;00m\n\u001b[1;32m      5\u001b[0m \u001b[38;5;66;03m# nope\u001b[39;00m\n",
            "\u001b[0;31mTypeError\u001b[0m: 'tuple' object does not support item assignment"
          ]
        }
      ],
      "source": [
        "#  Editing\n",
        "t_2[0] = 100\n",
        "\n",
        "# Adding\n",
        "# nope"
      ]
    },
    {
      "cell_type": "code",
      "execution_count": null,
      "metadata": {
        "id": "XWxXVK7wNT9-",
        "outputId": "129cbb48-a2f1-497b-f663-3605f1171fc1"
      },
      "outputs": [
        {
          "ename": "NameError",
          "evalue": "name 't_1' is not defined",
          "output_type": "error",
          "traceback": [
            "\u001b[0;31m---------------------------------------------------------------------------\u001b[0m",
            "\u001b[0;31mNameError\u001b[0m                                 Traceback (most recent call last)",
            "Cell \u001b[0;32mIn[21], line 2\u001b[0m\n\u001b[1;32m      1\u001b[0m \u001b[38;5;66;03m# Deletion\u001b[39;00m\n\u001b[0;32m----> 2\u001b[0m \u001b[38;5;28;01mdel\u001b[39;00m t_1\n\u001b[1;32m      4\u001b[0m \u001b[38;5;28;01mdel\u001b[39;00m t_2[\u001b[38;5;241m-\u001b[39m\u001b[38;5;241m1\u001b[39m]     \u001b[38;5;66;03m#not possiable\u001b[39;00m\n",
            "\u001b[0;31mNameError\u001b[0m: name 't_1' is not defined"
          ]
        }
      ],
      "source": [
        "# Deletion\n",
        "del t_1\n",
        "\n",
        "# del t_2[-1]     #not possiable"
      ]
    },
    {
      "cell_type": "code",
      "execution_count": null,
      "metadata": {
        "id": "8G10cKfkNT9-"
      },
      "outputs": [],
      "source": [
        "#  Operations and Functions\n",
        "\n",
        "# Same as list.\n",
        "\n"
      ]
    }
  ],
  "metadata": {
    "kernelspec": {
      "display_name": "Python 3",
      "language": "python",
      "name": "python3"
    },
    "language_info": {
      "codemirror_mode": {
        "name": "ipython",
        "version": 3
      },
      "file_extension": ".py",
      "mimetype": "text/x-python",
      "name": "python",
      "nbconvert_exporter": "python",
      "pygments_lexer": "ipython3",
      "version": "3.10.12"
    },
    "colab": {
      "provenance": [],
      "include_colab_link": true
    }
  },
  "nbformat": 4,
  "nbformat_minor": 0
}