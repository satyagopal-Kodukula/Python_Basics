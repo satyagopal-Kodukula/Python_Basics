{
  "cells": [
    {
      "cell_type": "markdown",
      "metadata": {
        "id": "view-in-github",
        "colab_type": "text"
      },
      "source": [
        "<a href=\"https://colab.research.google.com/github/satyagopal-Kodukula/Python_Basics/blob/main/decision_control.ipynb\" target=\"_parent\"><img src=\"https://colab.research.google.com/assets/colab-badge.svg\" alt=\"Open In Colab\"/></a>"
      ]
    },
    {
      "cell_type": "markdown",
      "metadata": {
        "id": "neGhRLtR3D0v"
      },
      "source": [
        "Decision Controll statements :\n",
        "\n",
        "if, if-else, if-elif-else, nested-if,  nested-if-else,nested-if-elif-else."
      ]
    },
    {
      "cell_type": "code",
      "execution_count": null,
      "metadata": {
        "id": "fDpTMw003D01",
        "outputId": "db3f8e35-36db-4e20-d8de-66856e395f30"
      },
      "outputs": [
        {
          "name": "stdout",
          "output_type": "stream",
          "text": [
            "Welcome\n"
          ]
        }
      ],
      "source": [
        "# Dummy login-app\n",
        "# let user_name=='satya@gmail.com'\n",
        "# let password =='leo123'\n",
        "\n",
        "user_name = input(\"Enter your Email : \")\n",
        "\n",
        "\n",
        "if '@' in user_name:\n",
        "    password =  input(\"Enter the password : \")\n",
        "    if user_name=='satya@gmail.com'  and password=='leo123':\n",
        "        print('Welcome')\n",
        "    elif user_name=='satya@gmail.com' and password!='leao123':\n",
        "        print('You have entered wrong password try to enter again')\n",
        "        password= input(\"Enter your password again :\")\n",
        "        if password=='leo123':\n",
        "            print('Finially u are right')\n",
        "        else:\n",
        "            print('You are wrong again--try again later')\n",
        "    else:\n",
        "        print('wrong info')\n",
        "else :\n",
        "    print('Not a proper user_name')"
      ]
    },
    {
      "cell_type": "markdown",
      "metadata": {
        "id": "IkHFro8n3D04"
      },
      "source": [
        "Indentation :"
      ]
    },
    {
      "cell_type": "code",
      "execution_count": null,
      "metadata": {
        "id": "TYUBZDTp3D04"
      },
      "outputs": [],
      "source": [
        "# :,tab,\\n,--helps you to find the indentation"
      ]
    }
  ],
  "metadata": {
    "kernelspec": {
      "display_name": "Python 3",
      "language": "python",
      "name": "python3"
    },
    "language_info": {
      "codemirror_mode": {
        "name": "ipython",
        "version": 3
      },
      "file_extension": ".py",
      "mimetype": "text/x-python",
      "name": "python",
      "nbconvert_exporter": "python",
      "pygments_lexer": "ipython3",
      "version": "3.10.12"
    },
    "colab": {
      "provenance": [],
      "include_colab_link": true
    }
  },
  "nbformat": 4,
  "nbformat_minor": 0
}