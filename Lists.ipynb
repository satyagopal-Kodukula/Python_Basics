{
  "cells": [
    {
      "cell_type": "markdown",
      "metadata": {
        "id": "view-in-github",
        "colab_type": "text"
      },
      "source": [
        "<a href=\"https://colab.research.google.com/github/satyagopal-Kodukula/Python_Basics/blob/main/Lists.ipynb\" target=\"_parent\"><img src=\"https://colab.research.google.com/assets/colab-badge.svg\" alt=\"Open In Colab\"/></a>"
      ]
    },
    {
      "cell_type": "markdown",
      "metadata": {
        "id": "Qa58fe98KfsD"
      },
      "source": [
        "List :\n",
        "Collection of hetrogenous elements\n",
        "\n",
        "List are mutable"
      ]
    },
    {
      "cell_type": "markdown",
      "metadata": {
        "id": "5n3woKqbKfsF"
      },
      "source": [
        "Array vs List\n",
        "\n",
        "1. Homogenous and hestrogenous\n",
        "2. Array stored in countiously vs not\n",
        "3. Arrays are much faster vs not\n",
        "4. list are programmer friendly"
      ]
    },
    {
      "cell_type": "code",
      "execution_count": null,
      "metadata": {
        "id": "wqzYRnWpKfsG",
        "outputId": "0350a051-d0ea-413d-f544-7ad744a8cd94"
      },
      "outputs": [
        {
          "data": {
            "text/plain": [
              "4000"
            ]
          },
          "execution_count": 31,
          "metadata": {},
          "output_type": "execute_result"
        }
      ],
      "source": [
        "# Creation of list\n",
        "\n",
        "l = []\n",
        "l = [1,2,3,4]\n",
        "l_1 = [1,'hello',50.23,True]\n",
        "\n",
        "# multidimentioanl list\n",
        "k = [1,2,3,[4,5]]  #2D\n",
        "l = [1,2,[2,3,4,[78,76]]] #3d\n",
        "\n",
        "# l = list('Hola')\n",
        "\n",
        "\n",
        "# Access   Same as string\n",
        "l_1[0]\n",
        "l_1[-1]\n",
        "\n",
        "k\n",
        "k[-1][0]\n",
        "l[2][-1][-1]\n",
        "\n",
        "\n",
        "# Edit\n",
        "#  We can edit, slicing list unlike string\n",
        "l = [1,2,3,4]\n",
        "l[0]=100\n",
        "l\n",
        "\n",
        "# Add new items [append,extend,insert]\n",
        "l\n",
        "l.append(1000)   #adds element at the end\n",
        "l\n",
        "l.extend([2000,3000,4000])  # can add multipe elements at the end\n",
        "l\n",
        "l.insert(1,'World')     #adds at the given index position\n",
        "l\n",
        "\n",
        "\n",
        "# delete inside a list [del, remove,pop,clear]\n",
        "del l[0]\n",
        "l\n",
        "\n",
        "# remove\n",
        "l.remove('World')\n",
        "l\n",
        "# pop\n",
        "l.pop()  # del last elements\n",
        "\n",
        "# l.clear()"
      ]
    },
    {
      "cell_type": "markdown",
      "metadata": {
        "id": "bWllrQheKfsI"
      },
      "source": [
        "Opeartions and Functions"
      ]
    },
    {
      "cell_type": "code",
      "execution_count": null,
      "metadata": {
        "id": "ayS1-C1UKfsJ",
        "outputId": "180e1a1a-386e-4ed2-8efb-7294973a35f7"
      },
      "outputs": [
        {
          "ename": "ValueError",
          "evalue": "'9' is not in list",
          "output_type": "error",
          "traceback": [
            "\u001b[0;31m---------------------------------------------------------------------------\u001b[0m",
            "\u001b[0;31mValueError\u001b[0m                                Traceback (most recent call last)",
            "Cell \u001b[0;32mIn[36], line 14\u001b[0m\n\u001b[1;32m     12\u001b[0m \u001b[38;5;28msorted\u001b[39m\n\u001b[1;32m     13\u001b[0m l\u001b[38;5;241m.\u001b[39msort(reverse\u001b[38;5;241m=\u001b[39m\u001b[38;5;28;01mTrue\u001b[39;00m)   \u001b[38;5;66;03m#parminent change\u001b[39;00m\n\u001b[0;32m---> 14\u001b[0m \u001b[43ml\u001b[49m\u001b[38;5;241;43m.\u001b[39;49m\u001b[43mindex\u001b[49m\u001b[43m(\u001b[49m\u001b[38;5;124;43m'\u001b[39;49m\u001b[38;5;124;43m9\u001b[39;49m\u001b[38;5;124;43m'\u001b[39;49m\u001b[43m)\u001b[49m\n",
            "\u001b[0;31mValueError\u001b[0m: '9' is not in list"
          ]
        }
      ],
      "source": [
        "l = [1,2,3,4]\n",
        "l_1 = [5,6,7,8]\n",
        "l+l_1\n",
        "l*3\n",
        "\n",
        "# Same as the strings\n",
        "\n",
        "# Functions\n",
        "len\n",
        "min\n",
        "max\n",
        "sorted\n",
        "l.sort(reverse=True)   #parminent change\n",
        "l.index('9')"
      ]
    }
  ],
  "metadata": {
    "kernelspec": {
      "display_name": "Python 3",
      "language": "python",
      "name": "python3"
    },
    "language_info": {
      "codemirror_mode": {
        "name": "ipython",
        "version": 3
      },
      "file_extension": ".py",
      "mimetype": "text/x-python",
      "name": "python",
      "nbconvert_exporter": "python",
      "pygments_lexer": "ipython3",
      "version": "3.10.12"
    },
    "colab": {
      "provenance": [],
      "include_colab_link": true
    }
  },
  "nbformat": 4,
  "nbformat_minor": 0
}