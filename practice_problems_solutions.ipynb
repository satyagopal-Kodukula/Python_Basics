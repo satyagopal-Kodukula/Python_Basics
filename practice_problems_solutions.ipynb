{
  "nbformat": 4,
  "nbformat_minor": 0,
  "metadata": {
    "colab": {
      "provenance": [],
      "authorship_tag": "ABX9TyOPoWVVAzh+ps3Y6Vdbk+18",
      "include_colab_link": true
    },
    "kernelspec": {
      "name": "python3",
      "display_name": "Python 3"
    },
    "language_info": {
      "name": "python"
    }
  },
  "cells": [
    {
      "cell_type": "markdown",
      "metadata": {
        "id": "view-in-github",
        "colab_type": "text"
      },
      "source": [
        "<a href=\"https://colab.research.google.com/github/satyagopal-Kodukula/Python_Basics/blob/main/practice_problems_solutions.ipynb\" target=\"_parent\"><img src=\"https://colab.research.google.com/assets/colab-badge.svg\" alt=\"Open In Colab\"/></a>"
      ]
    },
    {
      "cell_type": "markdown",
      "source": [
        "Write a code to find the minimum among three given numbers."
      ],
      "metadata": {
        "id": "pxr1iZ7EY6ED"
      }
    },
    {
      "cell_type": "code",
      "execution_count": null,
      "metadata": {
        "colab": {
          "base_uri": "https://localhost:8080/"
        },
        "id": "AMVC9cnXPy4W",
        "outputId": "1f435541-1c2a-4db5-e04e-be760fb8bc2e"
      },
      "outputs": [
        {
          "output_type": "stream",
          "name": "stdout",
          "text": [
            "Enter the first number : 55\n",
            "Enter the secound number : 66\n",
            "Enter the third number : 12\n",
            "The minimum amoung three numbers are : 12\n"
          ]
        }
      ],
      "source": [
        "num1 = int(input(\"Enter the first number : \"))\n",
        "num2 = int(input(\"Enter the secound number : \"))\n",
        "num3 = int(input(\"Enter the third number : \"))\n",
        "\n",
        "if num1<num2 and num1<num3:\n",
        "  print(\"The minimum amoung three numbers are : \",num1)\n",
        "elif num2<num1 and num2<num3:\n",
        "  print(\"The minimum amoung three numbers are :\",num2)\n",
        "elif num3<num1 and num3<num2:\n",
        "  print(\"The minimum amoung three numbers are :\", num3)\n",
        "else :\n",
        "  print(\"Enter a valid number!!!\")"
      ]
    },
    {
      "cell_type": "markdown",
      "source": [
        "Write a code to check whether a given number is a palindrome."
      ],
      "metadata": {
        "id": "9dP8DIFOaBgj"
      }
    },
    {
      "cell_type": "code",
      "source": [
        "num1 = input(\"Enter a number :\")\n",
        "num2 = num1[::-1]\n",
        "if num1 == num2:\n",
        "  print(\"The given number\",num1,\"is palindrome\")\n",
        "else:\n",
        "  print(\"The given number\",num1,\"is not palindrome\")"
      ],
      "metadata": {
        "colab": {
          "base_uri": "https://localhost:8080/"
        },
        "id": "Xl54sqILaClA",
        "outputId": "153e63fd-c7f1-4f42-e2b6-1e7629e66f8b"
      },
      "execution_count": null,
      "outputs": [
        {
          "output_type": "stream",
          "name": "stdout",
          "text": [
            "Enter a number :12345\n",
            "The given number 12345 is not palindrome\n"
          ]
        }
      ]
    },
    {
      "cell_type": "markdown",
      "source": [
        "Write a code to find the sum of numbers divisible by 4.The code must allow the user to accept a number and add it to the sum if it is divisible by 4. It should continue accepting numbers as long as the user wants to provide an input and should display the final sum."
      ],
      "metadata": {
        "id": "jiSU0Gx0au6k"
      }
    },
    {
      "cell_type": "code",
      "source": [
        "num1 = int(input(\"Enter a number : \"))\n",
        "sum = 0\n",
        "while num1 != \"\":\n",
        "  for i in range(1,num1+1):\n",
        "    if i%4 == 0:\n",
        "      sum+=1\n",
        "\n",
        "  say = input(\"Do you want to enter number again (yes/no)\")\n",
        "  if say.lower() == 'yes':\n",
        "    num1 = int(input(\"Enter a number : \"))\n",
        "    for i in range(1,num1+1):\n",
        "      if i%4 == 0:\n",
        "               sum+=1\n",
        "    print(\"The sum of digits divisiable by 4 is : \",sum)\n",
        "  else :\n",
        "               print(\"The sum of digits divisiable by 4 is : \",sum)\n",
        "  break\n",
        ""
      ],
      "metadata": {
        "id": "4Cd7h20ga7t6",
        "colab": {
          "base_uri": "https://localhost:8080/"
        },
        "outputId": "019b274f-6afe-47b5-e051-4000f548a14d"
      },
      "execution_count": 12,
      "outputs": [
        {
          "output_type": "stream",
          "name": "stdout",
          "text": [
            "Enter a number : 20\n",
            "Do you want to enter number again (yes/no)yes\n",
            "Enter a number : 12\n",
            "The sum of digits divisiable by 4 is :  8\n"
          ]
        }
      ]
    },
    {
      "cell_type": "markdown",
      "source": [
        "JIT University offering degree courses to students has decided to provide scholarship based on the following details:\n",
        "\n",
        "Follow docs"
      ],
      "metadata": {
        "id": "6xKEvaFOPNE6"
      }
    },
    {
      "cell_type": "code",
      "source": [
        "branch = input(\"Enter your branch [Arts or Engineering] : \")\n",
        "score = int(input(\"Enter Your score : \"))\n",
        "cource_fee = int(input(\"Enter your scource fee : \"))\n",
        "scholar_percentage = 0\n",
        "\n",
        "if branch.lower() == 'arts':\n",
        "  if 90<=score<=100:\n",
        "    scholar_percentage = (50/100)*cource_fee\n",
        "    scholarship_amount = cource_fee*scholar_percentage\n",
        "    finial_fee = cource_fee - scholar_percentage\n",
        "    print(\"Your finial fee is : \",finial_fee)\n",
        "  elif score%2 != 0:\n",
        "    scholar_percentage = (5/100)*cource_fee\n",
        "    scholarship_amount = cource_fee*scholar_percentage\n",
        "    finial_fee = cource_fee - scholar_percentage\n",
        "    print(\"Your finial fee is : \",finial_fee)\n",
        "  else :\n",
        "    pass\n",
        "elif branch.lower() == 'engineering':\n",
        "  if 85<score<=100:\n",
        "    scholar_percentage = (50/100)*cource_fee\n",
        "    scholarship_amount = cource_fee*scholar_percentage\n",
        "    finial_fee = cource_fee - scholar_percentage\n",
        "    print(\"Your finial fee is : \",finial_fee)\n",
        "  elif score%7 == 0:\n",
        "    scholar_percentage = (5/100)*cource_fee\n",
        "    scholarship_amount = cource_fee*scholar_percentage\n",
        "    finial_fee = cource_fee - scholar_percentage\n",
        "    print(\"Your finial fee is : \",finial_fee)\n",
        "  else:\n",
        "    pass\n",
        "else :\n",
        "  print(\"Enter a proper branch\")"
      ],
      "metadata": {
        "colab": {
          "base_uri": "https://localhost:8080/"
        },
        "id": "hYG688sEPYpd",
        "outputId": "877d8ef1-0602-40bf-93f9-a59ae9f0a870"
      },
      "execution_count": 17,
      "outputs": [
        {
          "output_type": "stream",
          "name": "stdout",
          "text": [
            "Enter your branch [Arts or Engineering] : arts\n",
            "Enter Your score : 98\n",
            "Enter your scource fee : 30000\n",
            "Your finial fee is :  15000.0\n"
          ]
        }
      ]
    },
    {
      "cell_type": "markdown",
      "source": [
        "6. The flight ticket rates for a round-trip (Mumbai->Dubai) were as follows:\n",
        "Rate per Adult: Rs. 37550.0\n",
        "Rate per Child: 1/3rd of the rate per adult\n",
        "Service Tax: 7% of the ticket amount (including all passengers)\n",
        "As it was a holiday season, the airline also offered a 10% discount on the final ticket cost (after inclusion of the service tax).\n",
        "Find and display the total ticket cost for a group which had adults and children.\n"
      ],
      "metadata": {
        "id": "Ldo-44d0XS4p"
      }
    },
    {
      "cell_type": "code",
      "source": [
        "adults = int(input(\"Enter how many adults are travelling : \"))\n",
        "child = int(input(\"Enter how many children are travelling : \"))\n",
        "ticket_price_adult = 37550.0\n",
        "ticket_price_child = (1/3)*ticket_price_adult\n",
        "tickets_cost = (adults * ticket_price_adult)+(ticket_price_child * child)\n",
        "tickets_tax = ((7/100)*tickets_cost)+tickets_cost\n",
        "\n",
        "total_price_after_discount = (10/100)*tickets_tax\n",
        "print(\"The tickets cost for\",adults,'adults and',child,'children is : ',total_price_after_discount)\n",
        "\n",
        "\n"
      ],
      "metadata": {
        "colab": {
          "base_uri": "https://localhost:8080/"
        },
        "id": "kB1XyDX5ROqB",
        "outputId": "c211e1e9-5fa2-47f6-cf4b-7b85ba4e7a3e"
      },
      "execution_count": 5,
      "outputs": [
        {
          "output_type": "stream",
          "name": "stdout",
          "text": [
            "Enter how many adults are travelling : 5\n",
            "Enter how many children are travelling : 0\n",
            "The tickets cost for 5 adults and 0 children is :  20089.25\n"
          ]
        }
      ]
    },
    {
      "cell_type": "markdown",
      "source": [
        " 7. Write a python program that displays a message as follows for a given number:\n",
        "If it is a multiple of three, display \"Zip\"\n",
        "If it is a multiple of five, display \"Zap\".\n",
        "If it is a multiple of both three and five, display \"Zoom\".\n",
        "If it does not satisfy any of the above given conditions, display \"Invalid\".\n"
      ],
      "metadata": {
        "id": "tVDApxKPDnVs"
      }
    },
    {
      "cell_type": "code",
      "source": [
        "num = int(input(\"Enter a number : \"))\n",
        "\n",
        "if num%3 == 0 and num%5 == 0:\n",
        "  print(\"ZOOM\")\n",
        "elif num%5 == 0:\n",
        "  print(\"ZAP\")\n",
        "elif num%3 == 0:\n",
        "  print(\"ZIP\")\n",
        "else :\n",
        "  print(\"Invalid\")"
      ],
      "metadata": {
        "colab": {
          "base_uri": "https://localhost:8080/"
        },
        "id": "Dj-AsFxwDrxo",
        "outputId": "5056698e-9b8e-4a30-939a-30aceefe8fe6"
      },
      "execution_count": 7,
      "outputs": [
        {
          "output_type": "stream",
          "name": "stdout",
          "text": [
            "Enter a number : 5\n",
            "ZAP\n"
          ]
        }
      ]
    },
    {
      "cell_type": "markdown",
      "source": [
        "  8.\tA teacher in a school wants to find and display the grade of a student based on his/her percentage score. The criterion for grades is as given below:"
      ],
      "metadata": {
        "id": "wRyn0jIgE_fN"
      }
    },
    {
      "cell_type": "code",
      "source": [
        "score = int(input(\"Enter Your Score : \"))\n",
        "\n",
        "if 80<=score<=100:\n",
        "  print(\"A\")\n",
        "elif 73<=score<=79:\n",
        "  print(\"B\")\n",
        "elif 65<=score<=72:\n",
        "  print(\"C\")\n",
        "elif 0<=score<=64:\n",
        "  print(\"D\")\n",
        "else:\n",
        "  print(\"Z\")"
      ],
      "metadata": {
        "colab": {
          "base_uri": "https://localhost:8080/"
        },
        "id": "Xg6ImZ7_FBN8",
        "outputId": "6e1231a1-9f7b-466e-8a84-af3d112bebc0"
      },
      "execution_count": 8,
      "outputs": [
        {
          "output_type": "stream",
          "name": "stdout",
          "text": [
            "Enter Your Score : 75\n",
            "B\n"
          ]
        }
      ]
    },
    {
      "cell_type": "markdown",
      "source": [],
      "metadata": {
        "id": "Jv9aDN8bF9B0"
      }
    }
  ]
}