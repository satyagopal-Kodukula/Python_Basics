{
  "cells": [
    {
      "cell_type": "markdown",
      "metadata": {
        "id": "view-in-github",
        "colab_type": "text"
      },
      "source": [
        "<a href=\"https://colab.research.google.com/github/satyagopal-Kodukula/Python_Basics/blob/main/Operators.ipynb\" target=\"_parent\"><img src=\"https://colab.research.google.com/assets/colab-badge.svg\" alt=\"Open In Colab\"/></a>"
      ]
    },
    {
      "cell_type": "markdown",
      "metadata": {
        "id": "7OargwgjzQQi"
      },
      "source": [
        "The precedence of Arithmetic Operators in Python is as follows:\n",
        "\n",
        "P – Parentheses\n",
        "E – Exponentiation\n",
        "M – Multiplication (Multiplication and division have the same precedence)\n",
        "D – Division\n",
        "A – Addition (Addition and subtraction have the same precedence)\n",
        "S – Subtraction"
      ]
    },
    {
      "cell_type": "code",
      "execution_count": null,
      "metadata": {
        "id": "lfV4B5T9zQQp",
        "outputId": "296a70d6-76b1-41c8-831f-c6459d76e2bb"
      },
      "outputs": [
        {
          "name": "stdout",
          "output_type": "stream",
          "text": [
            "The subtraction of given two numbers is :  11\n"
          ]
        }
      ],
      "source": [
        "# Working on Operators\n",
        "# Arithermic Operators\n",
        "# Writing a program to perform a arithermic operation given by the user\n",
        "while True:\n",
        "    num_1 = int(input(\"Enter a number_1 : \"))\n",
        "    num_2 = int(input(\"Enter a number_2 : \"))\n",
        "    oper = input(\"Enter a Operator to perform the arithemic operation : \")\n",
        "    if oper == \"+\":\n",
        "        print(\"The addition of given two numbers is : \", num_1+num_2)\n",
        "    elif oper ==\"-\":\n",
        "        print(\"The subtraction of given two numbers is : \", num_1-num_2)\n",
        "    elif oper == \"*\":\n",
        "        print(\"The multiplication of given two numbers is : \", num_1*num_2)\n",
        "    elif oper == \"/\":\n",
        "        print(\"The division of the given two numbers is : \",num_1/num_2)\n",
        "    elif oper == \"//\":\n",
        "        print(\"The Integer Divison of the given two numbers is : \",num_1//num_2)\n",
        "    elif oper == \"%\":\n",
        "        print(\"The Modules operation of the given two numbers is :\",num_1%num_2)\n",
        "    elif oper == \"**\":\n",
        "        print(\"The power of the given two numbers is :\", num_1**num_2)\n",
        "    else :\n",
        "        print(\"You have given a invalid operator, try to give it again!\")\n",
        "    again = input(\"Do you again want to perform any calculations (yes/no) :\")\n",
        "    if again.lower != \"yes\":\n",
        "        break"
      ]
    },
    {
      "cell_type": "markdown",
      "metadata": {
        "id": "kz6Qb8u3zQQs"
      },
      "source": [
        "Relational Operator are as follows :\n",
        "<, >,!=,==,<=,>="
      ]
    },
    {
      "cell_type": "code",
      "execution_count": 1,
      "metadata": {
        "colab": {
          "base_uri": "https://localhost:8080/"
        },
        "id": "1YNq4zhfzQQt",
        "outputId": "528bcd39-aa11-4255-ed37-8ccdcd6c4ebb"
      },
      "outputs": [
        {
          "output_type": "stream",
          "name": "stdout",
          "text": [
            "Enter a number_1 for the comparision : 10\n",
            "Enter a number_2 for the comparision : 10\n",
            "The 1st entered number is :  10\n",
            "The 2nd entered number is :  10\n",
            "True\n"
          ]
        }
      ],
      "source": [
        "# Comparision or Relational Operators\n",
        "num_1 = int(input(\"Enter a number_1 for the comparision : \"))\n",
        "num_2 = int(input(\"Enter a number_2 for the comparision : \"))\n",
        "# printing of the numbers\n",
        "print(\"The 1st entered number is : \",num_1)\n",
        "print(\"The 2nd entered number is : \",num_2)\n",
        "# comparing of the numbers\n",
        "print(num_2==num_2)"
      ]
    },
    {
      "cell_type": "markdown",
      "metadata": {
        "id": "8NccJLYuzQQt"
      },
      "source": [
        "Here are  the different logical operator :\n",
        "AND\n",
        "Here's a breakdown on how an and operator works :\n",
        "89 is evaluated and considered true.\n",
        "Since the first operand is true, the and operator proceeds to evaluate the second operand.\n",
        "87 is evaluated and considered true.\n",
        "The result of the entire expression is the second operand, which is 87.\n",
        "So, the result of 89 and 87 is 87\n",
        "\n",
        "OR\n",
        "Here's a breakdown on how an or operator works :\n",
        "\n",
        "89 is evaluated and considered true.\n",
        "Since the first operand is true, the or operator does not evaluate the second operand.\n",
        "The result of the entire expression is the first operand, which is 89.\n",
        "So, the result of 89 or 87 is 89.\n",
        "\n",
        "NOT\n",
        "not is a unary operator, so which means we can use only 1 value to negate it to positie to negative and negative to positive"
      ]
    },
    {
      "cell_type": "code",
      "execution_count": null,
      "metadata": {
        "id": "kTOqF1TPzQQu",
        "outputId": "d7ac7768-28a3-4178-ac03-7fed313e3a7e"
      },
      "outputs": [
        {
          "name": "stdout",
          "output_type": "stream",
          "text": [
            "The 1st entered number is :  654\n",
            "The 2nd entered number is :  54\n",
            "54\n",
            "654\n",
            "False\n"
          ]
        }
      ],
      "source": [
        "# Applying the Logical operators\n",
        "num_1 = int(input(\"Enter a number_1 for the comparision : \"))\n",
        "num_2 = int(input(\"Enter a number_2 for the comparision : \"))\n",
        "# printing of the numbers\n",
        "print(\"The 1st entered number is : \",num_1)\n",
        "print(\"The 2nd entered number is : \",num_2)\n",
        "# performing the and operation :\n",
        "print(num_1 and num_2)\n",
        "\n",
        "# performing the or operation\n",
        "print(num_1 or num_2)\n",
        "\n",
        "# performing the not operation\n",
        "print(not num_1)"
      ]
    },
    {
      "cell_type": "markdown",
      "metadata": {
        "id": "BLT8ZfCOzQQv"
      },
      "source": [
        "Here are the different Bitwise operators :\n",
        "&[Bitwise AND],\n",
        "|[Bitwise OR],\n",
        "~[Bitwise NOT]-- It is a unary operator, so have to use only a single value while using this operator,\n",
        "^[Bitwise XOR],\n",
        "<<[Bitwise shift left],\n",
        ">>[Bitwise shift right].\n",
        "\n",
        "\n",
        "The precedence of Bitwise Operators in Python is as follows:\n",
        "\n",
        "Bitwise NOT\n",
        "Bitwise Shift\n",
        "Bitwise AND\n",
        "Bitwise XOR\n",
        "Bitwise OR"
      ]
    },
    {
      "cell_type": "code",
      "execution_count": null,
      "metadata": {
        "id": "Gn_aQMZ_zQQw",
        "outputId": "5ca68bc2-efe8-445e-dd1c-9d35c53ab5e8"
      },
      "outputs": [
        {
          "name": "stdout",
          "output_type": "stream",
          "text": [
            "The 1st entered number is :  564\n",
            "The 2nd entered number is :  5646\n",
            "The Bitwise and Operation is  : 516\n",
            "The Bitwise or Operation is  : 5694\n",
            "The Bitwise and Operation is  : -565\n",
            "The Bitwise XOR operation is : 5178\n",
            "The Bitwise rightshift Operator is : 141\n",
            "The Bitwis leftshift operation is : 2256\n"
          ]
        }
      ],
      "source": [
        "# Applying the Bitwise Operators :\n",
        "num_1 = int(input(\"Enter a number_1 for the comparision : \"))\n",
        "num_2 = int(input(\"Enter a number_2 for the comparision : \"))\n",
        "# printing of the numbers\n",
        "print(\"The 1st entered number is : \",num_1)\n",
        "print(\"The 2nd entered number is : \",num_2)\n",
        "\n",
        "# Bitwise AND operator\n",
        "print(\"The Bitwise and Operation is  :\",num_1 & num_2)\n",
        "\n",
        "# Bitwise OR operator\n",
        "print(\"The Bitwise or Operation is  :\",num_1 | num_2)\n",
        "\n",
        "# Bitwise NOT operator\n",
        "print(\"The Bitwise and Operation is  :\",~num_1)\n",
        "\n",
        "# Bitwise XOR operator\n",
        "print(\"The Bitwise XOR operation is :\", num_1^num_2)\n",
        "\n",
        "# Bitwise RIGHTSHIFT Operator\n",
        "print(\"The Bitwise rightshift Operator is :\",num_1>>2)\n",
        "\n",
        "# Bitwise LEFTSHIFT operator\n",
        "print(\"The Bitwis leftshift operation is :\",num_1<<2)"
      ]
    },
    {
      "cell_type": "markdown",
      "metadata": {
        "id": "r7aAiElHzQQx"
      },
      "source": [
        "Assigement Operator:\n",
        "\n",
        "=, +=,-= --Arithermic operators,, &=,|=,~= --Bitwise Operators"
      ]
    },
    {
      "cell_type": "code",
      "execution_count": null,
      "metadata": {
        "id": "tl-UmQIezQQx",
        "outputId": "f81529d4-d473-48ce-ff8d-9da5e82bffa2"
      },
      "outputs": [
        {
          "name": "stdout",
          "output_type": "stream",
          "text": [
            "6554\n",
            "Addition and assigement 6556\n",
            "Subtraction and assigement 6554\n",
            "Multiplication and assigement 13108\n"
          ]
        }
      ],
      "source": [
        "# Applying arithermic--assigement Operations :\n",
        "num = int(input(\"Enter a Number : \"))\n",
        "print(num)\n",
        "num+=2\n",
        "print(\"Addition and assigement\",num)\n",
        "num-=2\n",
        "print(\"Subtraction and assigement\",num)\n",
        "num*=2\n",
        "print(\"Multiplication and assigement\",num)\n",
        "# You can apply all the arithermic operations to the assigement operator\n",
        "# You can apply all the Bitwise  operations to the assigement operator"
      ]
    },
    {
      "cell_type": "markdown",
      "metadata": {
        "id": "h0FF4LRIzQQy"
      },
      "source": [
        "Identity Operators :\n",
        "\n",
        "In Python, is and is not are the identity operators both are used to check if two values are located on the same part of the memory.\n",
        "Two variables that are equal do not imply that they are identical."
      ]
    },
    {
      "cell_type": "code",
      "execution_count": null,
      "metadata": {
        "id": "brkXgMJmzQQy",
        "outputId": "91f9cbc2-7985-43b1-908e-ae03f929b4ed"
      },
      "outputs": [
        {
          "name": "stdout",
          "output_type": "stream",
          "text": [
            "True\n",
            "True\n"
          ]
        }
      ],
      "source": [
        "# Applying Identity operator : is , is not\n",
        "\n",
        "num1 = int(input('Enter a number : '))\n",
        "num2 = int(input('Enter an another number : '))\n",
        "num3 = str(num1)\n",
        "# Checking\n",
        "print(num1 is int(num3))\n",
        "print(num1 is not num2)"
      ]
    },
    {
      "cell_type": "markdown",
      "metadata": {
        "id": "JeUNrhGuzQQy"
      },
      "source": [
        "Membership Operator :\n",
        "\n",
        "in and not in are the membership operators that are used to test whether a value or variable is in a sequence."
      ]
    },
    {
      "cell_type": "code",
      "execution_count": null,
      "metadata": {
        "id": "oWIaSvwdzQQz",
        "outputId": "60af7b39-7ea2-4652-acb6-dfe72b2147f2"
      },
      "outputs": [
        {
          "name": "stdout",
          "output_type": "stream",
          "text": [
            "Number not found !!\n"
          ]
        }
      ],
      "source": [
        "l = [1,2,45,67,89,69]\n",
        "num = int(input(\"Enter a number to check in the list : \"))\n",
        "if num not in l:\n",
        "    print(\"Number not found !!\")\n",
        "else :\n",
        "    print(\"Number Found\")"
      ]
    },
    {
      "cell_type": "markdown",
      "metadata": {
        "id": "Q2D4wS41zQQz"
      },
      "source": [
        "Ternary Operator :\n",
        "\n",
        "Ternary operators also known as conditional expressions are operators that evaluate something based on a condition being true or false."
      ]
    },
    {
      "cell_type": "code",
      "execution_count": null,
      "metadata": {
        "id": "aSINULs1zQQz",
        "outputId": "d82c9f6c-197c-4c47-9aa7-0707a8aadd2d"
      },
      "outputs": [
        {
          "name": "stdout",
          "output_type": "stream",
          "text": [
            "The minimum value is :  45\n"
          ]
        }
      ],
      "source": [
        "# Applying Ternary Operator:\n",
        "\n",
        "num1, num2 = input(\"Enter 2 numbers  :\").split(\" \")\n",
        "min = num1 if num1 < num2 else num2\n",
        "\n",
        "print('The minimum value is : ',min)"
      ]
    }
  ],
  "metadata": {
    "kernelspec": {
      "display_name": "Python 3",
      "language": "python",
      "name": "python3"
    },
    "language_info": {
      "codemirror_mode": {
        "name": "ipython",
        "version": 3
      },
      "file_extension": ".py",
      "mimetype": "text/x-python",
      "name": "python",
      "nbconvert_exporter": "python",
      "pygments_lexer": "ipython3",
      "version": "3.10.12"
    },
    "colab": {
      "provenance": [],
      "include_colab_link": true
    }
  },
  "nbformat": 4,
  "nbformat_minor": 0
}