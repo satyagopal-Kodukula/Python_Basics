{
  "cells": [
    {
      "cell_type": "markdown",
      "metadata": {
        "id": "view-in-github",
        "colab_type": "text"
      },
      "source": [
        "<a href=\"https://colab.research.google.com/github/satyagopal-Kodukula/Python_Basics/blob/main/build_in_functions_%26_modules_introduction.ipynb\" target=\"_parent\"><img src=\"https://colab.research.google.com/assets/colab-badge.svg\" alt=\"Open In Colab\"/></a>"
      ]
    },
    {
      "cell_type": "markdown",
      "metadata": {
        "id": "Tbo0cHurdwBn"
      },
      "source": [
        "Build-in functions\n",
        "\n",
        "1. print,\n",
        "2. input,\n",
        "3. type -- to know the valuetype,\n",
        "4. int,etc,\n",
        "5. abs --absulate value,\n",
        "6. pow,\n",
        "7. min/max  --minimum value and maximum value,\n",
        "9. round --round value of a given number,\n",
        "10. divmod,\n",
        "11. bin/oct/hex,\n",
        "12. id --used to find the address of the variable in the memeory,\n",
        "13. ord -- to know the ascii value of a character,\n",
        "14. len -- to find the length,\n",
        "15. sum -- to find the sum\n",
        "16. help -- to know the documentation of the function"
      ]
    },
    {
      "cell_type": "code",
      "execution_count": null,
      "metadata": {
        "id": "qiuRBe7vdwBq",
        "outputId": "2ca6d8cd-466a-4359-c137-1feb7cbe8f8a"
      },
      "outputs": [
        {
          "name": "stdout",
          "output_type": "stream",
          "text": [
            "4\n",
            "1953125\n"
          ]
        },
        {
          "data": {
            "text/plain": [
              "140069131256112"
            ]
          },
          "execution_count": 6,
          "metadata": {},
          "output_type": "execute_result"
        }
      ],
      "source": [
        "# abs function\n",
        "print(abs(-4))\n",
        "\n",
        "# power function\n",
        "print(pow(5,9))\n",
        "\n",
        "# round function\n",
        "c =22//7\n",
        "round(c)\n",
        "\n",
        "# divmod function\n",
        "divmod(5,2)\n",
        "\n",
        "# id function\n",
        "id(c)"
      ]
    },
    {
      "cell_type": "markdown",
      "metadata": {
        "id": "e67a0lLjdwBt"
      },
      "source": [
        "Build-in Modules :\n",
        "\n",
        "Modules: consider a modeule to be the same as a code libary\n",
        "\n",
        "A file containing a set of functions you want to include in your application.\n",
        "\n",
        "1. Math\n",
        "2. Random\n",
        "3. os\n",
        "4. time"
      ]
    },
    {
      "cell_type": "code",
      "execution_count": null,
      "metadata": {
        "id": "mcQUPbdxdwBt",
        "outputId": "7a123d88-ad81-47bc-df92-7748f502d2f1"
      },
      "outputs": [
        {
          "name": "stdout",
          "output_type": "stream",
          "text": [
            "\n",
            "Please wait a moment while I gather a list of all available modules...\n",
            "\n"
          ]
        },
        {
          "name": "stderr",
          "output_type": "stream",
          "text": [
            "/usr/lib/python3.10/pkgutil.py:92: UserWarning: The numpy.array_api submodule is still experimental. See NEP 47.\n",
            "  __import__(info.name)\n"
          ]
        },
        {
          "name": "stdout",
          "output_type": "stream",
          "text": [
            "AptUrl              apt_pkg             importlib           readline\n",
            "CommandNotFound     aptdaemon           importlib_metadata  reportlab\n",
            "DistUpgrade         aptsources          inspect             reprlib\n",
            "HweSupportStatus    argparse            io                  requests\n",
            "IPython             array               ipaddress           resource\n",
            "LanguageSelector    ast                 ipykernel           rlcompleter\n",
            "NvidiaDetector      asttokens           ipykernel_launcher  runpy\n",
            "PIL                 asynchat            itertools           scanext\n",
            "Quirks              asyncio             janitor             sched\n",
            "UbuntuDrivers       asyncore            jedi                scipy\n",
            "UpdateManager       atexit              jeepney             seaborn\n",
            "__future__          audioop             joblib              secrets\n",
            "_abc                base64              json                secretstorage\n",
            "_aix_support        bcrypt              jupyter             select\n",
            "_ast                bdb                 jupyter_client      selectors\n",
            "_asyncio            binascii            jupyter_core        setuptools\n",
            "_bisect             binhex              jwt                 shelve\n",
            "_blake2             bisect              keyring             shlex\n",
            "_bootsubprocess     blinker             keyword             shutil\n",
            "_bz2                brlapi              kiwisolver          signal\n",
            "_cffi_backend       builtins            language_support_pkgs site\n",
            "_codecs             bz2                 launchpadlib        sitecustomize\n",
            "_codecs_cn          cProfile            ldb                 six\n",
            "_codecs_hk          cairo               lib2to3             sklearn\n",
            "_codecs_iso2022     calendar            libfuturize         smtpd\n",
            "_codecs_jp          certifi             libpasteurize       smtplib\n",
            "_codecs_kr          cgi                 linecache           sndhdr\n",
            "_codecs_tw          cgitb               locale              socket\n",
            "_collections        chardet             lockfile            socketserver\n",
            "_collections_abc    chunk               logging             softwareproperties\n",
            "_compat_pickle      click               louis               speechd\n",
            "_compression        cmath               lsb_release         speechd_config\n",
            "_contextvars        cmd                 lzma                spwd\n",
            "_crypt              code                macaroonbakery      sqlite3\n",
            "_csv                codecs              mailbox             sre_compile\n",
            "_ctypes             codeop              mailcap             sre_constants\n",
            "_ctypes_test        collections         main                sre_parse\n",
            "_curses             colorama            mako                ssl\n",
            "_curses_panel       colorsys            markupsafe          stack_data\n",
            "_datetime           comm                marshal             stat\n",
            "_dbm                compileall          math                statistics\n",
            "_dbus_bindings      concurrent          matplotlib          string\n",
            "_dbus_glib_bindings configparser        matplotlib_inline   stringprep\n",
            "_decimal            contextlib          mimetypes           struct\n",
            "_distutils_hack     contextvars         mmap                subprocess\n",
            "_distutils_system_mod contourpy           modulefinder        sunau\n",
            "_elementtree        copy                monotonic           symtable\n",
            "_functools          copyreg             more_itertools      sys\n",
            "_gdbm               crypt               multiprocessing     sysconfig\n",
            "_hashlib            cryptography        nacl                syslog\n",
            "_heapq              csv                 nest_asyncio        systemd\n",
            "_imp                ctypes              netifaces           tabnanny\n",
            "_io                 cups                netrc               talloc\n",
            "_json               cupsext             nis                 tarfile\n",
            "_ldb_text           cupshelpers         nntplib             telnetlib\n",
            "_locale             curses              ntpath              tempfile\n",
            "_lsprof             cycler              nturl2path          termios\n",
            "_lzma               dataclasses         numbers             test\n",
            "_markupbase         datetime            numpy               textwrap\n",
            "_md5                dateutil            oauthlib            this\n",
            "_multibytecodec     dbm                 olefile             threading\n",
            "_multiprocessing    dbus                opcode              threadpoolctl\n",
            "_opcode             deb822              operator            time\n",
            "_operator           debconf             optparse            timeit\n",
            "_osx_support        debian              orca                token\n",
            "_pickle             debian_bundle       os                  tokenize\n",
            "_posixshmem         debugpy             ossaudiodev         tornado\n",
            "_posixsubprocess    decimal             packaging           trace\n",
            "_py_abc             decorator           pandas              traceback\n",
            "_pydecimal          defer               paramiko            tracemalloc\n",
            "_pyio               difflib             parso               traitlets\n",
            "_queue              dis                 past                tty\n",
            "_random             distro              pathlib             turtle\n",
            "_sha1               distro_info         pcardext            types\n",
            "_sha256             distutils           pdb                 typing\n",
            "_sha3               doctest             pexpect             tzdata\n",
            "_sha512             duplicity           pickle              uaclient\n",
            "_signal             email               pickletools         ufw\n",
            "_sitebuiltins       encodings           pip                 unicodedata\n",
            "_socket             enum                pipes               unittest\n",
            "_sqlite3            errno               pkg_resources       uno\n",
            "_sre                exceptiongroup      pkgutil             unohelper\n",
            "_ssl                executing           platform            urllib\n",
            "_stat               fasteners           platformdirs        urllib3\n",
            "_statistics         faulthandler        plistlib            usbcreator\n",
            "_string             fcntl               poplib              uu\n",
            "_strptime           filecmp             posix               uuid\n",
            "_struct             fileinput           posixpath           venv\n",
            "_symtable           fnmatch             pprint              wadllib\n",
            "_sysconfigdata__linux_x86_64-linux-gnu fontTools           problem_report      warnings\n",
            "_sysconfigdata__x86_64-linux-gnu fractions           profile             wave\n",
            "_testbuffer         ftplib              prompt_toolkit      wcwidth\n",
            "_testcapi           functools           pstats              weakref\n",
            "_testclinic         future              psutil              webbrowser\n",
            "_testimportmultiple gc                  pty                 wheel\n",
            "_testinternalcapi   genericpath         ptyprocess          wsgiref\n",
            "_testmultiphase     getopt              pure_eval           xdg\n",
            "_thread             getpass             pwd                 xdrlib\n",
            "_threading_local    gettext             py_compile          xkit\n",
            "_tracemalloc        gi                  pyatspi             xml\n",
            "_uuid               glob                pyclbr              xmlrpc\n",
            "_warnings           graphlib            pydoc               xxlimited\n",
            "_weakref            grp                 pydoc_data          xxlimited_35\n",
            "_weakrefset         gzip                pyexpat             xxsubtype\n",
            "_xxsubinterpreters  hashlib             pygments            yaml\n",
            "_xxtestfuzz         heapq               pygtkcompat         zipapp\n",
            "_yaml               hmac                pylab               zipfile\n",
            "_zoneinfo           hpmudext            pymacaroons         zipimport\n",
            "abc                 html                pyparsing           zipp\n",
            "aifc                http                pyrfc3339           zlib\n",
            "antigravity         httplib2            pytz                zmq\n",
            "apport              idna                queue               zoneinfo\n",
            "apport_python_hook  imaplib             quopri              \n",
            "apt                 imghdr              random              \n",
            "apt_inst            imp                 re                  \n",
            "\n",
            "Enter any module name to get more help.  Or, type \"modules spam\" to search\n",
            "for modules whose name or summary contain the string \"spam\".\n",
            "\n"
          ]
        }
      ],
      "source": [
        "help('modules')"
      ]
    },
    {
      "cell_type": "code",
      "execution_count": null,
      "metadata": {
        "id": "E-iwZshodwBu",
        "outputId": "696af27d-ac81-4e2a-f1f1-22721b40352e"
      },
      "outputs": [
        {
          "name": "stdout",
          "output_type": "stream",
          "text": [
            "hello\n",
            "gopal\n",
            "Wed Jan  3 19:56:32 2024\n"
          ]
        },
        {
          "data": {
            "text/plain": [
              "['iteration_control.ipynb',\n",
              " 'Operators.ipynb',\n",
              " 'decision_control.ipynb',\n",
              " 'main.py',\n",
              " 'Basics_of_python.ipynb']"
            ]
          },
          "execution_count": 25,
          "metadata": {},
          "output_type": "execute_result"
        }
      ],
      "source": [
        "# Math module\n",
        "import math\n",
        "math.pi\n",
        "math.ceil(6.9)\n",
        "\n",
        "# Random module\n",
        "import random\n",
        "random.randint(1,10)\n",
        "a = [1,2,3,4]\n",
        "random.shuffle(a)\n",
        "a\n",
        "\n",
        "# Time module\n",
        "import time\n",
        "time.time()\n",
        "print('hello')\n",
        "time.sleep(3)\n",
        "print('gopal')\n",
        "print(time.ctime())\n",
        "\n",
        "# Os module\n",
        "import os\n",
        "os.getcwd()\n",
        "os.listdir()"
      ]
    }
  ],
  "metadata": {
    "kernelspec": {
      "display_name": "Python 3",
      "language": "python",
      "name": "python3"
    },
    "language_info": {
      "codemirror_mode": {
        "name": "ipython",
        "version": 3
      },
      "file_extension": ".py",
      "mimetype": "text/x-python",
      "name": "python",
      "nbconvert_exporter": "python",
      "pygments_lexer": "ipython3",
      "version": "3.10.12"
    },
    "colab": {
      "provenance": [],
      "include_colab_link": true
    }
  },
  "nbformat": 4,
  "nbformat_minor": 0
}