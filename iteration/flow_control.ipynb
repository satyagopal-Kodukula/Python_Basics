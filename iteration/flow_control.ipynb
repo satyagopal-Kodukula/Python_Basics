{
  "cells": [
    {
      "cell_type": "markdown",
      "metadata": {
        "id": "view-in-github",
        "colab_type": "text"
      },
      "source": [
        "<a href=\"https://colab.research.google.com/github/satyagopal-Kodukula/Python_Basics/blob/main/iteration/flow_control.ipynb\" target=\"_parent\"><img src=\"https://colab.research.google.com/assets/colab-badge.svg\" alt=\"Open In Colab\"/></a>"
      ]
    },
    {
      "cell_type": "markdown",
      "metadata": {
        "id": "9sI7fy_LZjOq"
      },
      "source": [
        "Loops [iteration control statements]\n",
        "\n",
        "While and for loops\n",
        "\n",
        "\n",
        "While loop :\n",
        "We use this when we dont know how many times we have to iterarte."
      ]
    },
    {
      "cell_type": "code",
      "execution_count": null,
      "metadata": {
        "id": "ohfSobxAZjOt",
        "outputId": "dcb4e933-205c-4cae-f03b-1e10d07d0b5c"
      },
      "outputs": [
        {
          "name": "stdout",
          "output_type": "stream",
          "text": [
            "11\n",
            "22\n",
            "33\n",
            "44\n",
            "55\n",
            "66\n",
            "77\n",
            "88\n",
            "99\n",
            "110\n"
          ]
        }
      ],
      "source": [
        "# While loops\n",
        "#  Table printing\n",
        "num = int(input(\"Enter a number : \"))\n",
        "i = 1\n",
        "while i<11:\n",
        "    print(num*i)\n",
        "    i+=1"
      ]
    },
    {
      "cell_type": "markdown",
      "metadata": {
        "id": "F2gpFAtvZjOw"
      },
      "source": [
        "Writing a guessing game code using while loop"
      ]
    },
    {
      "cell_type": "code",
      "execution_count": null,
      "metadata": {
        "id": "u141keqcZjOw",
        "outputId": "19a93f74-297d-4429-81f7-16c4189be555"
      },
      "outputs": [
        {
          "name": "stdout",
          "output_type": "stream",
          "text": [
            "Guess lower\n",
            "Guess lower\n",
            "Guess lower\n",
            "Guess higher\n",
            "Guess higher\n",
            "sahi Jawab\n",
            "You took 6 attempts\n"
          ]
        }
      ],
      "source": [
        "# Guessing Game\n",
        "# module --random\n",
        "\n",
        "import random\n",
        "jackpot=random.randint(1,100)\n",
        "\n",
        "guess=int(input(\"Guess the number :\"))\n",
        "counter=1\n",
        "while guess!=jackpot:\n",
        "    if guess<jackpot:\n",
        "        print(\"Guess higher\")\n",
        "    else:\n",
        "        print('Guess lower')\n",
        "    counter+=1\n",
        "    guess=int(input(\"Guess the number :\"))\n",
        "print('sahi Jawab')\n",
        "print(\"You took\",counter,'attempts')"
      ]
    },
    {
      "cell_type": "markdown",
      "metadata": {
        "id": "1hR-BTjgZjOx"
      },
      "source": [
        "Range function : genertaing integers in the given range, where 1st number is incuded and last number is not included.\n",
        "\n",
        "step in range : which is used to step the numbers.\n",
        "\n",
        "Sequence : --string,--list,--tuple,--set,--dictionary.\n",
        "\n",
        "For loop : A for loop either works on range function or on a sequence.\n",
        "\n",
        "When we know how many times we have to iterate then we use for loop."
      ]
    },
    {
      "cell_type": "code",
      "execution_count": null,
      "metadata": {
        "id": "egGobQIkZjOx",
        "outputId": "8e3df449-4815-46f4-93e8-769f4aaf5a09"
      },
      "outputs": [
        {
          "name": "stdout",
          "output_type": "stream",
          "text": [
            "10\n",
            "9\n",
            "8\n",
            "7\n",
            "6\n",
            "5\n",
            "4\n",
            "3\n",
            "2\n",
            "1\n",
            "k\n",
            "o\n",
            "l\n",
            "k\n",
            "a\n",
            "t\n",
            "a\n",
            "1\n",
            "2\n",
            "3\n",
            "4\n",
            "1\n",
            "2\n",
            "3\n",
            "4\n",
            "8\n",
            "9\n",
            "10\n",
            "7\n"
          ]
        }
      ],
      "source": [
        "# For loop\n",
        "# range function\n",
        "for i in range(10,0,-1):\n",
        "    print(i)\n",
        "\n",
        "# sequence\n",
        "for i in 'kolkata':\n",
        "    print(i)\n",
        "\n",
        "for i in [1,2,3,4]:\n",
        "    print(i)\n",
        "\n",
        "for i in (1,2,3,4):\n",
        "    print(i)\n",
        "\n",
        "for i in {10,9,8,7}:\n",
        "    print(i)"
      ]
    },
    {
      "cell_type": "markdown",
      "metadata": {
        "id": "HQNiigSdZjOx"
      },
      "source": [
        "Nested Loops\n",
        "\n",
        "Try this for visulization : https://pythontutor.com/render.html#mode=display"
      ]
    },
    {
      "cell_type": "code",
      "execution_count": null,
      "metadata": {
        "id": "rq64bUw9ZjOy",
        "outputId": "6d664db0-4680-49f3-ef74-e2ce4f4005e8"
      },
      "outputs": [
        {
          "name": "stdout",
          "output_type": "stream",
          "text": [
            "* \n",
            "* * \n",
            "* * * \n",
            "* * * * \n",
            "* * * * * \n",
            "* * * * * * \n",
            "* * * * * * * \n",
            "* * * * * * * * \n",
            "* * * * * * * * * \n"
          ]
        }
      ],
      "source": [
        "# nested\n",
        "\n",
        "# *\n",
        "# **\n",
        "# ***\n",
        "# ****\n",
        "\n",
        "rows = int(input(\"Enter the numbers of rows :\"))\n",
        "for i in range(1,rows+1):\n",
        "    for j in range(0,i):\n",
        "        print('*',end=' ')\n",
        "    print('')"
      ]
    },
    {
      "cell_type": "markdown",
      "metadata": {
        "id": "5i_VC6QnZjOy"
      },
      "source": [
        "Break,countinue,pass statements :\n",
        "\n",
        "Breakk : breaks the loop.\n",
        "\n",
        "countinue : breaks at certain instance and countinues the rest of the loop.\n",
        "\n",
        "pass : useful while you are unsure what to do."
      ]
    },
    {
      "cell_type": "code",
      "execution_count": null,
      "metadata": {
        "id": "7-EctqGLZjOy",
        "outputId": "acd8ef7e-a61a-448d-aa97-8cfd00ebbc89"
      },
      "outputs": [
        {
          "name": "stdout",
          "output_type": "stream",
          "text": [
            "1\n",
            "2\n",
            "3\n",
            "4\n",
            "------------------------------------------\n",
            "1\n",
            "2\n",
            "3\n",
            "4\n",
            "6\n",
            "7\n",
            "8\n",
            "9\n",
            "10\n",
            "------------------------------------------\n"
          ]
        }
      ],
      "source": [
        "# break\n",
        "for i in range(1,11):\n",
        "    if i==5:\n",
        "        break\n",
        "    print(i)\n",
        "print('------------------------------------------')\n",
        "\n",
        "# countiue\n",
        "for i in range(1,11):\n",
        "    if i==5:\n",
        "        continue\n",
        "    print(i)\n",
        "print('------------------------------------------')\n",
        "\n",
        "# pass\n",
        "for i in range(1,11):\n",
        "        pass\n"
      ]
    }
  ],
  "metadata": {
    "kernelspec": {
      "display_name": "Python 3",
      "language": "python",
      "name": "python3"
    },
    "language_info": {
      "codemirror_mode": {
        "name": "ipython",
        "version": 3
      },
      "file_extension": ".py",
      "mimetype": "text/x-python",
      "name": "python",
      "nbconvert_exporter": "python",
      "pygments_lexer": "ipython3",
      "version": "3.10.12"
    },
    "colab": {
      "provenance": [],
      "include_colab_link": true
    }
  },
  "nbformat": 4,
  "nbformat_minor": 0
}