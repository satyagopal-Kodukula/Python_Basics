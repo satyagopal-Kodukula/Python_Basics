{
  "cells": [
    {
      "cell_type": "markdown",
      "metadata": {
        "id": "view-in-github",
        "colab_type": "text"
      },
      "source": [
        "<a href=\"https://colab.research.google.com/github/satyagopal-Kodukula/Python_Basics/blob/main/Basics_of_python.ipynb\" target=\"_parent\"><img src=\"https://colab.research.google.com/assets/colab-badge.svg\" alt=\"Open In Colab\"/></a>"
      ]
    },
    {
      "cell_type": "markdown",
      "metadata": {
        "id": "uWKzGsTBy9Il"
      },
      "source": [
        "print() Function"
      ]
    },
    {
      "cell_type": "code",
      "execution_count": null,
      "metadata": {
        "id": "n9z1QSrzy9Iv",
        "outputId": "d527a605-8270-4dfa-dec2-da721dc06076"
      },
      "outputs": [
        {
          "name": "stdout",
          "output_type": "stream",
          "text": [
            "Hello World!\n"
          ]
        }
      ],
      "source": [
        "# string\n",
        "print(\"Hello World!\")"
      ]
    },
    {
      "cell_type": "code",
      "execution_count": null,
      "metadata": {
        "id": "7uZlpGxMy9Ix",
        "outputId": "9a1230e0-3d4e-4e85-d71f-5e5beedfb547"
      },
      "outputs": [
        {
          "name": "stdout",
          "output_type": "stream",
          "text": [
            "4\n"
          ]
        }
      ],
      "source": [
        "# Integer\n",
        "print(4)"
      ]
    },
    {
      "cell_type": "code",
      "execution_count": null,
      "metadata": {
        "id": "W6m6uXZYy9Iy",
        "outputId": "1b9ffd16-2974-47af-9e28-0023db76ce7b"
      },
      "outputs": [
        {
          "name": "stdout",
          "output_type": "stream",
          "text": [
            "89.033\n"
          ]
        }
      ],
      "source": [
        "# Float\n",
        "print(89.033)"
      ]
    },
    {
      "cell_type": "code",
      "execution_count": null,
      "metadata": {
        "id": "_TmFomvCy9Iz",
        "outputId": "75c17b18-9afb-45a2-e1b9-6cd1b03f60c8"
      },
      "outputs": [
        {
          "name": "stdout",
          "output_type": "stream",
          "text": [
            "hello World\n"
          ]
        }
      ],
      "source": [
        "print('hello',end=\" \")\n",
        "print(\"World\")"
      ]
    },
    {
      "cell_type": "markdown",
      "metadata": {
        "id": "fNFN9Rd8y9Iz"
      },
      "source": [
        "DataTypes :\n",
        "\n",
        "Basic type -- int,float,complex,boolean and string\n",
        "\n",
        "container type -- list, tuple, sets, dictionary\n",
        "\n",
        "user-defined types -- classes"
      ]
    },
    {
      "cell_type": "code",
      "execution_count": null,
      "metadata": {
        "id": "Ae70Cmw9y9I0",
        "outputId": "ab8c8205-8d60-49ba-be81-277a9ff955b1"
      },
      "outputs": [
        {
          "name": "stdout",
          "output_type": "stream",
          "text": [
            "4\n",
            "inf\n",
            "inf\n",
            "True\n",
            "False\n",
            "(4+5j)\n",
            "Kolkata\n",
            "Mumbai\n",
            "Hola\n"
          ]
        }
      ],
      "source": [
        "# Basic Types\n",
        "# integer\n",
        "print(4)\n",
        "print(1e309)\n",
        "\n",
        "# float\n",
        "print(1.7e309)\n",
        "\n",
        "# boolean\n",
        "print(True)\n",
        "print(False)\n",
        "\n",
        "# Complex\n",
        "print(4+5j)\n",
        "\n",
        "# String\n",
        "print(\"Kolkata\")\n",
        "print(\"Mumbai\")\n",
        "print('''Hola''')\n"
      ]
    },
    {
      "cell_type": "code",
      "execution_count": null,
      "metadata": {
        "id": "a01jTAVQy9I1",
        "outputId": "53df18e0-41a3-4002-c0da-81d9079db656"
      },
      "outputs": [
        {
          "name": "stdout",
          "output_type": "stream",
          "text": [
            "[1, 2, 3, 4, 5]\n",
            "(1, 2, 3, 4, 5)\n",
            "{1, 2, 3, 4, 5}\n",
            "{'name': 'Gopal', 'Age': '30'}\n"
          ]
        }
      ],
      "source": [
        "# Container type\n",
        "# List\n",
        "print([1,2,3,4,5])\n",
        "\n",
        "# tuple\n",
        "print((1,2,3,4,5))\n",
        "\n",
        "# Sets\n",
        "print({1,2,3,4,5})\n",
        "\n",
        "# Dictionary\n",
        "print({'name':'Gopal','Age':'30'})\n"
      ]
    },
    {
      "cell_type": "markdown",
      "metadata": {
        "id": "HKhOIidly9I1"
      },
      "source": [
        "Comments : A piece of code which is not excuitable by compiler or iterpreter\n"
      ]
    },
    {
      "cell_type": "code",
      "execution_count": null,
      "metadata": {
        "id": "cJDDgwkQy9I2",
        "outputId": "b924ae4c-5c59-46c7-fb19-f1d946a4de9b"
      },
      "outputs": [
        {
          "data": {
            "text/plain": [
              "'\\nHola \\n'"
            ]
          },
          "execution_count": 18,
          "metadata": {},
          "output_type": "execute_result"
        }
      ],
      "source": [
        "# Comments\n",
        "#  No multi-line comments bulid in python language"
      ]
    },
    {
      "cell_type": "markdown",
      "metadata": {
        "id": "qj1MHA0Uy9I2"
      },
      "source": [
        "Variables :\n",
        "\n",
        "No varibale decleartion\n",
        "\n",
        "Dyamic typing [python,php,etc]  // Static Typing [java,c,etc]\n",
        "\n",
        "Dynamic binding"
      ]
    },
    {
      "cell_type": "code",
      "execution_count": null,
      "metadata": {
        "id": "UsUyqLLuy9I2",
        "outputId": "1be178c9-00b5-4bff-c1fc-e51b18369a38"
      },
      "outputs": [
        {
          "name": "stdout",
          "output_type": "stream",
          "text": [
            "<class 'str'>\n",
            "Gopal\n"
          ]
        }
      ],
      "source": [
        "# Creation of Variables\n",
        "name = 'Gopal'\n",
        "print(type(name))  # to check the typeof variable\n",
        "print(name)\n",
        "\n",
        "#  Special Syntax\n",
        "a=3;b=4;c=10   # type-1\n",
        "a,b,c = 5,6,8  # type-2\n",
        "a= b= c=6      #type-3"
      ]
    },
    {
      "cell_type": "markdown",
      "metadata": {
        "id": "pOICgPBny9I3"
      },
      "source": [
        "Keywords and Identifiers :\n",
        "\n",
        "Keywords : A keyword is a word that is resereved by a program because it has a special meaning\n",
        "\n",
        "Identifiers : An identifier is a name used to identify a variable,function,class,module or other object\n",
        "\n",
        "Rules :\n",
        "\n",
        "Can only start with a alphabit or _\n",
        "\n",
        "followed by 0 or more letters,_ and digits\n",
        "\n",
        "keywords cannot be an identifier\n",
        "\n",
        "Upper and Lower case are both different"
      ]
    },
    {
      "cell_type": "code",
      "execution_count": null,
      "metadata": {
        "id": "AEjLA5msy9I3",
        "outputId": "8d1f4982-8b34-4038-bd31-86de9703fb6b"
      },
      "outputs": [
        {
          "name": "stdout",
          "output_type": "stream",
          "text": [
            "['False', 'None', 'True', 'and', 'as', 'assert', 'async', 'await', 'break', 'class', 'continue', 'def', 'del', 'elif', 'else', 'except', 'finally', 'for', 'from', 'global', 'if', 'import', 'in', 'is', 'lambda', 'nonlocal', 'not', 'or', 'pass', 'raise', 'return', 'try', 'while', 'with', 'yield']\n"
          ]
        }
      ],
      "source": [
        "# Keywords\n",
        "import keyword\n",
        "print(keyword.kwlist)\n",
        "\n"
      ]
    },
    {
      "cell_type": "markdown",
      "metadata": {
        "id": "ohqXbO2-y9I3"
      },
      "source": [
        "Taking user Input -- input()\n",
        "\n",
        "input would be always taken in the form of a string, so we need to do type conversion\n",
        "\n",
        "\n",
        "Type Conversion :\n",
        "One data type can be converted into another datatype only if possiable, No change in the originnal value[not a pariment operation]\n",
        "\n",
        "types :\n",
        "Implicit,\n",
        "Explicit"
      ]
    },
    {
      "cell_type": "code",
      "execution_count": null,
      "metadata": {
        "id": "l3h8tyYly9I4",
        "outputId": "d6a974c9-a4ca-4c4e-f5ff-b135f77161cb"
      },
      "outputs": [
        {
          "name": "stdout",
          "output_type": "stream",
          "text": [
            "The result of the givn 2 numbers is : 163\n"
          ]
        }
      ],
      "source": [
        "#  input() function\n",
        "num_1=input(\"Enter the 1st number : \")\n",
        "num_2=input(\"Enter the 2nd number : \")\n",
        "\n",
        "# type conersion\n",
        "# implicit\n",
        "print(4+5.6)\n",
        "\n",
        "# explicit--- int(),float(),bool(),complex(),list(),etc--all datatypes can be  used according to the logic\n",
        "num_1=int(input(\"Enter the 1st number : \"))\n",
        "num_2=int(input(\"Enter the 2nd number : \"))\n",
        "result = num_1+num_2\n",
        "print('The result of the givn 2 numbers is :', num_1+num_2)\n",
        "\n",
        "\n"
      ]
    },
    {
      "cell_type": "markdown",
      "metadata": {
        "id": "jR_fa7W7y9I4"
      },
      "source": [
        "Literals :\n",
        "literal means a raw data given to a variable\n",
        "\n",
        "Types :\n",
        "Numerical,String,Boolean,Special"
      ]
    },
    {
      "cell_type": "code",
      "execution_count": null,
      "metadata": {
        "id": "lu1D91hSy9I4",
        "outputId": "5a0002e5-e3b2-4fca-98a6-f467ddd8c109"
      },
      "outputs": [
        {
          "name": "stdout",
          "output_type": "stream",
          "text": [
            "0.0\n"
          ]
        }
      ],
      "source": [
        "# Integer\n",
        "b= 100   # Decimal\n",
        "a= 0b1010101 # Binary\n",
        "c= 0o305 # Octal\n",
        "d= 0x1022498 # Hexa-decial\n",
        "\n",
        "# Floats\n",
        "float_1 = 908.098\n",
        "float_2 = 1.5e2 #large number\n",
        "float_3 = 1.6e-9  #small number\n",
        "\n",
        "# Complex\n",
        "x =3.14j\n",
        "print(x.real)"
      ]
    },
    {
      "cell_type": "code",
      "execution_count": null,
      "metadata": {
        "id": "RnoTocuey9I4",
        "outputId": "cd8e9f7d-8f20-4282-9d14-9132f0dd7072"
      },
      "outputs": [
        {
          "name": "stdout",
          "output_type": "stream",
          "text": [
            "\u0001f600\n",
            "5,1\n",
            "None\n"
          ]
        }
      ],
      "source": [
        "# Strings\n",
        "string = 'Hola'\n",
        "strings = \"Python\"\n",
        "char ='c'\n",
        "multi_line = \"\"\"This is my coding notes\"\"\"\n",
        "unicode = u\"\\u0001f600\"\n",
        "raw_string = r'Good night'\n",
        "print(unicode)\n",
        "\n",
        "\n",
        "\n",
        "# Boolean\n",
        "a =True+4\n",
        "b= False+1\n",
        "print(a,b,sep=',')\n",
        "\n",
        "\n",
        "# none\n",
        "a=None\n",
        "print(a)"
      ]
    }
  ],
  "metadata": {
    "kernelspec": {
      "display_name": "Python 3",
      "language": "python",
      "name": "python3"
    },
    "language_info": {
      "codemirror_mode": {
        "name": "ipython",
        "version": 3
      },
      "file_extension": ".py",
      "mimetype": "text/x-python",
      "name": "python",
      "nbconvert_exporter": "python",
      "pygments_lexer": "ipython3",
      "version": "3.10.12"
    },
    "colab": {
      "provenance": [],
      "include_colab_link": true
    }
  },
  "nbformat": 4,
  "nbformat_minor": 0
}