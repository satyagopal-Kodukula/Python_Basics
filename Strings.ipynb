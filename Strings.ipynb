{
  "cells": [
    {
      "cell_type": "markdown",
      "metadata": {
        "id": "view-in-github",
        "colab_type": "text"
      },
      "source": [
        "<a href=\"https://colab.research.google.com/github/satyagopal-Kodukula/Python_Basics/blob/main/Strings.ipynb\" target=\"_parent\"><img src=\"https://colab.research.google.com/assets/colab-badge.svg\" alt=\"Open In Colab\"/></a>"
      ]
    },
    {
      "cell_type": "markdown",
      "metadata": {
        "id": "THEiu03p-DtD"
      },
      "source": [
        "Strings :\n",
        "\n",
        "Strings are a sequence of unicode characters."
      ]
    },
    {
      "cell_type": "code",
      "execution_count": null,
      "metadata": {
        "id": "EO4txLyE-DtH",
        "outputId": "58ed2dbd-d94f-42c9-a3e1-da294a000d05"
      },
      "outputs": [
        {
          "name": "stdout",
          "output_type": "stream",
          "text": [
            "python\n"
          ]
        }
      ],
      "source": [
        "# Creation of Strings\n",
        "c = 'strings'\n",
        "c = '''Hello'''  #multiline strings\n",
        "\n",
        "# type con\n",
        "c = str(\"python\")\n",
        "print(c)"
      ]
    },
    {
      "cell_type": "markdown",
      "metadata": {
        "id": "7ttVZ5As-DtM"
      },
      "source": [
        "Accessing substring from a string"
      ]
    },
    {
      "cell_type": "code",
      "execution_count": null,
      "metadata": {
        "id": "J8tBQ3Os-DtM",
        "outputId": "9490767d-860f-44ca-d9ae-3cdda732d715"
      },
      "outputs": [
        {
          "name": "stdout",
          "output_type": "stream",
          "text": [
            "l\n",
            "l\n",
            "hello\n",
            "llo world\n",
            "hell\n",
            "hello world\n",
            "hlw\n",
            "dlrow olleh\n"
          ]
        }
      ],
      "source": [
        "# concept of indexing\n",
        "c = 'hello'\n",
        "# positive indexing\n",
        "print(c[2])\n",
        "# negative indexing\n",
        "print(c[-2])\n",
        "\n",
        "# slicing\n",
        "d = 'hello world'\n",
        "print(d[0:5])\n",
        "# variation\n",
        "print(d[2:])\n",
        "print(d[:4])\n",
        "print(d[:])\n",
        "print(d[0:8:3])\n",
        "# reverse\n",
        "print(d[::-1])"
      ]
    },
    {
      "cell_type": "markdown",
      "metadata": {
        "id": "G60LhZ_h-DtN"
      },
      "source": [
        "Editing and deleting strings\n",
        "\n",
        "editing : Strings are Immutable Data type."
      ]
    },
    {
      "cell_type": "code",
      "execution_count": null,
      "metadata": {
        "id": "DoHHMuza-DtN",
        "outputId": "27fad066-9d15-42b0-f906-15a7e1fe3243"
      },
      "outputs": [
        {
          "name": "stdout",
          "output_type": "stream",
          "text": [
            "world\n"
          ]
        },
        {
          "ename": "TypeError",
          "evalue": "'str' object doesn't support item deletion",
          "output_type": "error",
          "traceback": [
            "\u001b[0;31m---------------------------------------------------------------------------\u001b[0m",
            "\u001b[0;31mTypeError\u001b[0m                                 Traceback (most recent call last)",
            "Cell \u001b[0;32mIn[27], line 13\u001b[0m\n\u001b[1;32m     11\u001b[0m \u001b[38;5;66;03m# particular character deleation\u001b[39;00m\n\u001b[1;32m     12\u001b[0m c \u001b[38;5;241m=\u001b[39m \u001b[38;5;124m'\u001b[39m\u001b[38;5;124mhello\u001b[39m\u001b[38;5;124m'\u001b[39m\n\u001b[0;32m---> 13\u001b[0m \u001b[38;5;28;01mdel\u001b[39;00m(c[\u001b[38;5;241m0\u001b[39m])   \u001b[38;5;66;03m# does not work as strings are immutable\u001b[39;00m\n",
            "\u001b[0;31mTypeError\u001b[0m: 'str' object doesn't support item deletion"
          ]
        }
      ],
      "source": [
        "c = 'Hello'\n",
        "# c[0] = 'X'\n",
        "\n",
        "# reassiging\n",
        "c = 'world'\n",
        "print(c)\n",
        "\n",
        "# Delation\n",
        "del(c)\n",
        "\n",
        "# particular character deleation\n",
        "c = 'hello'\n",
        "del(c[0])   # does not work as strings are immutable\n"
      ]
    },
    {
      "cell_type": "markdown",
      "metadata": {
        "id": "VXj8eaQE-DtN"
      },
      "source": [
        "Strings Operations :\n",
        "\n",
        "1. Arithermic Operations\n",
        "2. Relational Operations\n",
        "3. Logical Operations\n",
        "4. Loops in strings\n",
        "5. Membership Operations"
      ]
    },
    {
      "cell_type": "code",
      "execution_count": null,
      "metadata": {
        "id": "sPVOFSvI-DtO",
        "outputId": "3da33301-765c-408b-d8b2-b07e623b77b2"
      },
      "outputs": [
        {
          "name": "stdout",
          "output_type": "stream",
          "text": [
            "h\n",
            "e\n",
            "l\n",
            "l\n",
            "o\n",
            " \n",
            "w\n",
            "o\n",
            "r\n",
            "l\n",
            "d\n",
            "False\n",
            "True\n"
          ]
        }
      ],
      "source": [
        "# Arithermic operations [+,*]\n",
        "\"Hello\"+\" World\"\n",
        "\"Hip Hip Hurray  \"*3\n",
        "\n",
        "# Relational operations [==,!=,<,>,etc]\n",
        "'hello'=='world'\n",
        "'hello'!= 'world'\n",
        "\n",
        "\"Mumbai\">\"Pune\"    # Lexiographically\n",
        "\"Goa\"<\"Kolkata\"\n",
        "\n",
        "'kol'<'Kol'     # First capital letters then small letters\n",
        "\n",
        "# Logical operations\n",
        "\"hello\" and \"World\"\n",
        "\"\" or \"world\"\n",
        "not \"world\"\n",
        "not \"\"\n",
        "# explained in operators\n",
        "\n",
        "# Loops on Strings\n",
        "c  = \"hello world\"\n",
        "for i in c:     # slicing can also be used\n",
        "    print(i)\n",
        "\n",
        "# Meembership operator\n",
        "c = 'hello'\n",
        "print('g' in c)\n",
        "print('g' not in c)"
      ]
    },
    {
      "cell_type": "markdown",
      "metadata": {
        "id": "bdWmslfX-DtO"
      },
      "source": [
        "String Functions :\n",
        "\n",
        "common Functions :\n",
        "len,\n",
        "max,\n",
        "min,\n",
        "sorted.\n"
      ]
    },
    {
      "cell_type": "code",
      "execution_count": null,
      "metadata": {
        "id": "WRbYG9kZ-DtO",
        "outputId": "b01e4826-bf47-4a21-8620-5c9e3b09fdcc"
      },
      "outputs": [
        {
          "data": {
            "text/plain": [
              "['a', 'a', 'k', 'k', 'l', 'o', 't']"
            ]
          },
          "execution_count": 47,
          "metadata": {},
          "output_type": "execute_result"
        }
      ],
      "source": [
        "c = 'kolkata'\n",
        "len(c)\n",
        "max(c)  # according to ascii value largest value\n",
        "min(c)  # according to ascii value smallest value\n",
        "sorted(c)  # according to ascii value it will sort the string"
      ]
    },
    {
      "cell_type": "markdown",
      "metadata": {
        "id": "8MNJrSj2-DtP"
      },
      "source": [
        "Specific functions:\n",
        "capitalize,\n",
        "title,\n",
        "upper,\n",
        "lower,\n",
        "swapcase\n",
        "\n",
        "Other :\n",
        "count,\n",
        "find/index,\n",
        "endswith/startwith,\n",
        "format,\n",
        "isalnum/isalpha/isdecimal/isdigit/isidentifier,\n",
        "Split,\n",
        "join,\n",
        "replace,\n",
        "strip.\n",
        "\n",
        "\n",
        "\n",
        "\n",
        "\n",
        "\n"
      ]
    },
    {
      "cell_type": "code",
      "execution_count": null,
      "metadata": {
        "id": "JKIfhVWI-DtP",
        "outputId": "bcc0ffe2-e172-4457-9af7-1463d2e8fb6b"
      },
      "outputs": [
        {
          "data": {
            "text/plain": [
              "'hello'"
            ]
          },
          "execution_count": 84,
          "metadata": {},
          "output_type": "execute_result"
        }
      ],
      "source": [
        "c = 'kolkata'\n",
        "c.capitalize()\n",
        "'it is raining'.title()\n",
        "c.upper()\n",
        "c.lower()\n",
        "\"KoLkAtA\".swapcase()\n",
        "# count\n",
        "'it is raining'.count('i')\n",
        "# find/index\n",
        "'it is rainiing'.find('o')\n",
        "'it is raining'.index('i')\n",
        "\n",
        "# endswith/startwith\n",
        "'it is raining'.endswith('ing')\n",
        "'it is raining'.startswith('is')\n",
        "\n",
        "# format\n",
        "\"hello my name is {} and I am {}\".format('Gopal',20)\n",
        "# variration\n",
        "\"hello my name is {1} and I am {0}\".format('Gopal',20)\n",
        "\"hello my name is {name} and I am {age}\".format(name='Gopal',age=20)\n",
        "\n",
        "# isalnum/isalpha/isdecimal/isdigit/isidentifier\n",
        "# used in validation\n",
        "\"FLAT20\".isalnum()\n",
        "\"FLAT\".isalpha()\n",
        "\"20\".isdigit()\n",
        "\"Hello-world\".isidentifier()\n",
        "\n",
        "# Split\n",
        "'who is the pm of india'.split()\n",
        "# variation\n",
        "'who is the pm of india'.split(\"pm\")\n",
        "\n",
        "# join\n",
        "\"\".join(['who is the ', ' of india'])\n",
        "\n",
        "# replace\n",
        "'Hi my name is Gopal'.replace('gopal','satya')\n",
        "\n",
        "# Strip\n",
        "name = \"               gopal                \"\n",
        "name.strip()\n",
        "\n",
        "\"hello\""
      ]
    }
  ],
  "metadata": {
    "kernelspec": {
      "display_name": "Python 3",
      "language": "python",
      "name": "python3"
    },
    "language_info": {
      "codemirror_mode": {
        "name": "ipython",
        "version": 3
      },
      "file_extension": ".py",
      "mimetype": "text/x-python",
      "name": "python",
      "nbconvert_exporter": "python",
      "pygments_lexer": "ipython3",
      "version": "3.10.12"
    },
    "colab": {
      "provenance": [],
      "include_colab_link": true
    }
  },
  "nbformat": 4,
  "nbformat_minor": 0
}